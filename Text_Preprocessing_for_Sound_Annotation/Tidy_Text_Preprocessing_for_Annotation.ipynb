{
 "cells": [
  {
   "cell_type": "markdown",
   "id": "a5fff2fa",
   "metadata": {},
   "source": [
    "This jupyter notebook is used for the preparation of plain text files (.txt) for the annotation in spread sheets. For that we read in a txt-file, make sure it's encoded in UTF-8, clean the text file for double white spaces (\\s) and line breaks (\\n) as well as further elements in the text that could disturb its tokenization and future xml conversion like: %, &, $.\n",
    "In a next step, it uses the NLTK Tokenizer for English (default) to tokenize the plain text file that can be saved in a facultative step. "
   ]
  },
  {
   "cell_type": "code",
   "execution_count": 1,
   "id": "6c258cb8",
   "metadata": {},
   "outputs": [],
   "source": [
    "import nltk\n",
    "import regex as re\n",
    "from nltk.tokenize import word_tokenize\n",
    "from pathlib import Path\n",
    "import pandas as pd"
   ]
  },
  {
   "cell_type": "code",
   "execution_count": 2,
   "id": "f508bbf9",
   "metadata": {},
   "outputs": [
    {
     "data": {
      "text/plain": [
       "'THE WAR OF THE WORLDS\\n\\nH. G. Wells\\n\\n\\nBut who shall dwell in these worlds if they be\\ninhabited? .  . '"
      ]
     },
     "execution_count": 2,
     "metadata": {},
     "output_type": "execute_result"
    }
   ],
   "source": [
    "# Read in the text file and make sure it's encoded in UTF-8. \n",
    "# Please change it to your respective file path.\n",
    "\n",
    "text = open(\"/PATH/TO/plain_text_file.txt\", mode='r', encoding='utf-8-sig').read()\n",
    "text[:100]"
   ]
  },
  {
   "cell_type": "code",
   "execution_count": 3,
   "id": "5c6e9b4f",
   "metadata": {},
   "outputs": [
    {
     "name": "stdout",
     "output_type": "stream",
     "text": [
      "THE WAR OF THE WORLDS H. G. Wells But who shall dwell in these worlds if they be inhabited? .  .  . \n"
     ]
    }
   ],
   "source": [
    "# Clean the text with some simple regex comands to substitute the double white spaces (\\s) \n",
    "# and line breaks (\\n) as well as further elements in the text that could disturb its tokenization \n",
    "# with single white space or characters of our choice.\n",
    "\n",
    "single_spaces_text = re.sub('\\s+', ' ', text)\n",
    "single_spaces_text = re.sub('--+', ' -- ', text)\n",
    "single_spaces_text = re.sub('&', 'and', text)\n",
    "single_spaces_text = re.sub(';', '.', text)\n",
    "single_spaces_text = re.sub('\\d', ' ', text)\n",
    "#print(single_spaces_msg)\n",
    "no_space_text = re.sub('\\n+', ' ', single_spaces_text)\n",
    "print(no_space_text[:100])\n",
    "\n",
    "# Check the type of your document.\n",
    "\n",
    "type(no_space_text)"
   ]
  },
  {
   "cell_type": "code",
   "execution_count": 4,
   "id": "25c545b4",
   "metadata": {},
   "outputs": [
    {
     "data": {
      "text/plain": [
       "str"
      ]
     },
     "execution_count": 4,
     "metadata": {},
     "output_type": "execute_result"
    }
   ],
   "source": []
  },
  {
   "cell_type": "code",
   "execution_count": 5,
   "id": "70d79c2e",
   "metadata": {},
   "outputs": [
    {
     "data": {
      "text/plain": [
       "['THE', 'WAR', 'OF', 'THE', 'WORLDS', 'H.', 'G.', 'Wells', 'But', 'who']"
      ]
     },
     "execution_count": 5,
     "metadata": {},
     "output_type": "execute_result"
    }
   ],
   "source": [
    "# Define the variable \"tokens\" in which you want to save the result of the NLTK tokenization process.\n",
    "\n",
    "tokens = word_tokenize(no_space_text)\n",
    "tokens[:10]\n",
    "\n",
    "# Check the type of your tokenization. It should be a list of tokens.\n",
    "\n",
    "type(tokens)"
   ]
  },
  {
   "cell_type": "code",
   "execution_count": 262,
   "id": "2daa139c",
   "metadata": {},
   "outputs": [],
   "source": [
    "# Facultative step:\n",
    "# Create a new text file. Save the list of tokens in the text file.\n",
    "\n",
    "#with open('../Wells_War_of_the_Worlds_tokenized.txt', 'w') as no_space_text:\n",
    "#    for listitem in tokens:\n",
    "#        no_space_text.write(f'{listitem}\\n')"
   ]
  },
  {
   "cell_type": "code",
   "execution_count": 8,
   "id": "97ebdbed",
   "metadata": {},
   "outputs": [],
   "source": [
    "# Take the NLTK WordNet Lemmatizer.\n",
    "lmtzr = nltk.WordNetLemmatizer()"
   ]
  },
  {
   "cell_type": "code",
   "execution_count": 9,
   "id": "d732d1c2",
   "metadata": {},
   "outputs": [
    {
     "name": "stdout",
     "output_type": "stream",
     "text": [
      "['THE', 'WAR', 'OF', 'THE', 'WORLDS', 'H.', 'G.', 'Wells', 'But', 'who', 'shall', 'dwell', 'in', 'these', 'world', 'if', 'they', 'be', 'inhabited', '?', '.', '.', '.', 'Are', 'we', 'or', 'they', 'Lords', 'of', 'the', 'World', '?', '.', '.', '.', 'And', 'how', 'are', 'all', 'thing', 'made', 'for', 'man', '?', '--', 'KEPLER', '(', 'quoted', 'in', 'The', 'Anatomy', 'of', 'Melancholy', ')', 'BOOK', 'ONE', 'THE', 'COMING', 'OF', 'THE', 'MARTIANS', 'CHAPTER', 'ONE', 'THE', 'EVE', 'OF', 'THE', 'WAR', 'No', 'one', 'would', 'have', 'believed', 'in', 'the', 'last', 'year', 'of', 'the', 'nineteenth', 'century', 'that', 'this', 'world', 'wa', 'being', 'watched', 'keenly', 'and', 'closely', 'by', 'intelligence', 'greater', 'than', 'man', \"'s\", 'and', 'yet', 'a', 'mortal']\n"
     ]
    }
   ],
   "source": [
    "# Lemmatize the token list \"tokens\" and store it in the variabel \"token_lemma\".\n",
    "token_lemma = [lmtzr.lemmatize(token) for token in tokens]\n",
    "#print(token_lemma[:100])\n"
   ]
  },
  {
   "cell_type": "code",
   "execution_count": 10,
   "id": "a1c4dace",
   "metadata": {},
   "outputs": [],
   "source": [
    "# POS-tag the list of tokens and store the pos-tagged data in the variabel \"tagged\".\n",
    "tagged = nltk.pos_tag(token_lemma)\n",
    "print(tagged[:20])\n",
    "len(tagged)"
   ]
  },
  {
   "cell_type": "code",
   "execution_count": 13,
   "id": "90420b48",
   "metadata": {},
   "outputs": [
    {
     "data": {
      "text/html": [
       "<div>\n",
       "<style scoped>\n",
       "    .dataframe tbody tr th:only-of-type {\n",
       "        vertical-align: middle;\n",
       "    }\n",
       "\n",
       "    .dataframe tbody tr th {\n",
       "        vertical-align: top;\n",
       "    }\n",
       "\n",
       "    .dataframe thead th {\n",
       "        text-align: right;\n",
       "    }\n",
       "</style>\n",
       "<table border=\"1\" class=\"dataframe\">\n",
       "  <thead>\n",
       "    <tr style=\"text-align: right;\">\n",
       "      <th></th>\n",
       "      <th>lemma</th>\n",
       "      <th>pos</th>\n",
       "    </tr>\n",
       "  </thead>\n",
       "  <tbody>\n",
       "    <tr>\n",
       "      <th>0</th>\n",
       "      <td>THE</td>\n",
       "      <td>DT</td>\n",
       "    </tr>\n",
       "    <tr>\n",
       "      <th>1</th>\n",
       "      <td>WAR</td>\n",
       "      <td>NNP</td>\n",
       "    </tr>\n",
       "    <tr>\n",
       "      <th>2</th>\n",
       "      <td>OF</td>\n",
       "      <td>IN</td>\n",
       "    </tr>\n",
       "    <tr>\n",
       "      <th>3</th>\n",
       "      <td>THE</td>\n",
       "      <td>NNP</td>\n",
       "    </tr>\n",
       "    <tr>\n",
       "      <th>4</th>\n",
       "      <td>WORLDS</td>\n",
       "      <td>NNP</td>\n",
       "    </tr>\n",
       "    <tr>\n",
       "      <th>5</th>\n",
       "      <td>H.</td>\n",
       "      <td>NNP</td>\n",
       "    </tr>\n",
       "    <tr>\n",
       "      <th>6</th>\n",
       "      <td>G.</td>\n",
       "      <td>NNP</td>\n",
       "    </tr>\n",
       "    <tr>\n",
       "      <th>7</th>\n",
       "      <td>Wells</td>\n",
       "      <td>NNP</td>\n",
       "    </tr>\n",
       "    <tr>\n",
       "      <th>8</th>\n",
       "      <td>But</td>\n",
       "      <td>CC</td>\n",
       "    </tr>\n",
       "    <tr>\n",
       "      <th>9</th>\n",
       "      <td>who</td>\n",
       "      <td>WP</td>\n",
       "    </tr>\n",
       "  </tbody>\n",
       "</table>\n",
       "</div>"
      ],
      "text/plain": [
       "    lemma  pos\n",
       "0     THE   DT\n",
       "1     WAR  NNP\n",
       "2      OF   IN\n",
       "3     THE  NNP\n",
       "4  WORLDS  NNP\n",
       "5      H.  NNP\n",
       "6      G.  NNP\n",
       "7   Wells  NNP\n",
       "8     But   CC\n",
       "9     who   WP"
      ]
     },
     "execution_count": 13,
     "metadata": {},
     "output_type": "execute_result"
    }
   ],
   "source": [
    "# Generate a dataframe with the entries \"lemma\" and \"pos\" to store the data received from the NLTL-POS-tagging.\n",
    "df = pd.DataFrame(tagged, columns=['lemma', 'pos'])\n",
    "#df.head(n = 10)"
   ]
  },
  {
   "cell_type": "code",
   "execution_count": 15,
   "id": "ee08a7d8",
   "metadata": {},
   "outputs": [
    {
     "data": {
      "text/html": [
       "<div>\n",
       "<style scoped>\n",
       "    .dataframe tbody tr th:only-of-type {\n",
       "        vertical-align: middle;\n",
       "    }\n",
       "\n",
       "    .dataframe tbody tr th {\n",
       "        vertical-align: top;\n",
       "    }\n",
       "\n",
       "    .dataframe thead th {\n",
       "        text-align: right;\n",
       "    }\n",
       "</style>\n",
       "<table border=\"1\" class=\"dataframe\">\n",
       "  <thead>\n",
       "    <tr style=\"text-align: right;\">\n",
       "      <th></th>\n",
       "      <th>lemma</th>\n",
       "      <th>pos</th>\n",
       "      <th>token</th>\n",
       "    </tr>\n",
       "  </thead>\n",
       "  <tbody>\n",
       "    <tr>\n",
       "      <th>0</th>\n",
       "      <td>THE</td>\n",
       "      <td>DT</td>\n",
       "      <td>THE</td>\n",
       "    </tr>\n",
       "    <tr>\n",
       "      <th>1</th>\n",
       "      <td>WAR</td>\n",
       "      <td>NNP</td>\n",
       "      <td>WAR</td>\n",
       "    </tr>\n",
       "    <tr>\n",
       "      <th>2</th>\n",
       "      <td>OF</td>\n",
       "      <td>IN</td>\n",
       "      <td>OF</td>\n",
       "    </tr>\n",
       "    <tr>\n",
       "      <th>3</th>\n",
       "      <td>THE</td>\n",
       "      <td>NNP</td>\n",
       "      <td>THE</td>\n",
       "    </tr>\n",
       "    <tr>\n",
       "      <th>4</th>\n",
       "      <td>WORLDS</td>\n",
       "      <td>NNP</td>\n",
       "      <td>WORLDS</td>\n",
       "    </tr>\n",
       "    <tr>\n",
       "      <th>5</th>\n",
       "      <td>H.</td>\n",
       "      <td>NNP</td>\n",
       "      <td>H.</td>\n",
       "    </tr>\n",
       "    <tr>\n",
       "      <th>6</th>\n",
       "      <td>G.</td>\n",
       "      <td>NNP</td>\n",
       "      <td>G.</td>\n",
       "    </tr>\n",
       "    <tr>\n",
       "      <th>7</th>\n",
       "      <td>Wells</td>\n",
       "      <td>NNP</td>\n",
       "      <td>Wells</td>\n",
       "    </tr>\n",
       "    <tr>\n",
       "      <th>8</th>\n",
       "      <td>But</td>\n",
       "      <td>CC</td>\n",
       "      <td>But</td>\n",
       "    </tr>\n",
       "    <tr>\n",
       "      <th>9</th>\n",
       "      <td>who</td>\n",
       "      <td>WP</td>\n",
       "      <td>who</td>\n",
       "    </tr>\n",
       "  </tbody>\n",
       "</table>\n",
       "</div>"
      ],
      "text/plain": [
       "    lemma  pos   token\n",
       "0     THE   DT     THE\n",
       "1     WAR  NNP     WAR\n",
       "2      OF   IN      OF\n",
       "3     THE  NNP     THE\n",
       "4  WORLDS  NNP  WORLDS\n",
       "5      H.  NNP      H.\n",
       "6      G.  NNP      G.\n",
       "7   Wells  NNP   Wells\n",
       "8     But   CC     But\n",
       "9     who   WP     who"
      ]
     },
     "execution_count": 15,
     "metadata": {},
     "output_type": "execute_result"
    }
   ],
   "source": [
    "# Add a further column to your dataframe that contains the tokens generated earlier with the NLTK tokenizer.\n",
    "df['token'] = tokens\n",
    "df.head(n = 10)"
   ]
  },
  {
   "cell_type": "code",
   "execution_count": 16,
   "id": "7c1d49d8",
   "metadata": {},
   "outputs": [],
   "source": [
    "# Define the variable \"length\" with the calculated length of the list of tokens \"tokens\"\n",
    "# and store it as an integer in the variable \"length\".\n",
    "# Then generate a new column of \"O\" that are the \"not-annotated\" annotation entries of the dataframe of the length of the list of tokens. \n",
    "\n",
    "length = len(tokens)\n",
    "print(length)\n",
    "list = ['O']* length \n",
    "#len(list)"
   ]
  },
  {
   "cell_type": "code",
   "execution_count": 18,
   "id": "56530f39",
   "metadata": {},
   "outputs": [
    {
     "data": {
      "text/html": [
       "<div>\n",
       "<style scoped>\n",
       "    .dataframe tbody tr th:only-of-type {\n",
       "        vertical-align: middle;\n",
       "    }\n",
       "\n",
       "    .dataframe tbody tr th {\n",
       "        vertical-align: top;\n",
       "    }\n",
       "\n",
       "    .dataframe thead th {\n",
       "        text-align: right;\n",
       "    }\n",
       "</style>\n",
       "<table border=\"1\" class=\"dataframe\">\n",
       "  <thead>\n",
       "    <tr style=\"text-align: right;\">\n",
       "      <th></th>\n",
       "      <th>lemma</th>\n",
       "      <th>pos</th>\n",
       "      <th>token</th>\n",
       "      <th>annotation</th>\n",
       "    </tr>\n",
       "  </thead>\n",
       "  <tbody>\n",
       "    <tr>\n",
       "      <th>0</th>\n",
       "      <td>THE</td>\n",
       "      <td>DT</td>\n",
       "      <td>THE</td>\n",
       "      <td>O</td>\n",
       "    </tr>\n",
       "    <tr>\n",
       "      <th>1</th>\n",
       "      <td>WAR</td>\n",
       "      <td>NNP</td>\n",
       "      <td>WAR</td>\n",
       "      <td>O</td>\n",
       "    </tr>\n",
       "    <tr>\n",
       "      <th>2</th>\n",
       "      <td>OF</td>\n",
       "      <td>IN</td>\n",
       "      <td>OF</td>\n",
       "      <td>O</td>\n",
       "    </tr>\n",
       "    <tr>\n",
       "      <th>3</th>\n",
       "      <td>THE</td>\n",
       "      <td>NNP</td>\n",
       "      <td>THE</td>\n",
       "      <td>O</td>\n",
       "    </tr>\n",
       "    <tr>\n",
       "      <th>4</th>\n",
       "      <td>WORLDS</td>\n",
       "      <td>NNP</td>\n",
       "      <td>WORLDS</td>\n",
       "      <td>O</td>\n",
       "    </tr>\n",
       "    <tr>\n",
       "      <th>5</th>\n",
       "      <td>H.</td>\n",
       "      <td>NNP</td>\n",
       "      <td>H.</td>\n",
       "      <td>O</td>\n",
       "    </tr>\n",
       "    <tr>\n",
       "      <th>6</th>\n",
       "      <td>G.</td>\n",
       "      <td>NNP</td>\n",
       "      <td>G.</td>\n",
       "      <td>O</td>\n",
       "    </tr>\n",
       "    <tr>\n",
       "      <th>7</th>\n",
       "      <td>Wells</td>\n",
       "      <td>NNP</td>\n",
       "      <td>Wells</td>\n",
       "      <td>O</td>\n",
       "    </tr>\n",
       "    <tr>\n",
       "      <th>8</th>\n",
       "      <td>But</td>\n",
       "      <td>CC</td>\n",
       "      <td>But</td>\n",
       "      <td>O</td>\n",
       "    </tr>\n",
       "    <tr>\n",
       "      <th>9</th>\n",
       "      <td>who</td>\n",
       "      <td>WP</td>\n",
       "      <td>who</td>\n",
       "      <td>O</td>\n",
       "    </tr>\n",
       "  </tbody>\n",
       "</table>\n",
       "</div>"
      ],
      "text/plain": [
       "    lemma  pos   token annotation\n",
       "0     THE   DT     THE          O\n",
       "1     WAR  NNP     WAR          O\n",
       "2      OF   IN      OF          O\n",
       "3     THE  NNP     THE          O\n",
       "4  WORLDS  NNP  WORLDS          O\n",
       "5      H.  NNP      H.          O\n",
       "6      G.  NNP      G.          O\n",
       "7   Wells  NNP   Wells          O\n",
       "8     But   CC     But          O\n",
       "9     who   WP     who          O"
      ]
     },
     "execution_count": 18,
     "metadata": {},
     "output_type": "execute_result"
    }
   ],
   "source": [
    "# Show and controll the data frame before saving it to a csv-file.\n",
    "df['annotation'] = list\n",
    "df.head(n = 10)"
   ]
  },
  {
   "cell_type": "code",
   "execution_count": null,
   "id": "3b62379c",
   "metadata": {},
   "outputs": [],
   "source": [
    "# Save the dataframe to a csv-file.\n",
    "filepath = Path('/PATH/TO/text_file_for_annotation.csv')  \n",
    "filepath.parent.mkdir(parents=True, exist_ok=True)  \n",
    "df.to_csv(filepath)"
   ]
  }
 ],
 "metadata": {
  "kernelspec": {
   "display_name": "Python 3 (ipykernel)",
   "language": "python",
   "name": "python3"
  },
  "language_info": {
   "codemirror_mode": {
    "name": "ipython",
    "version": 3
   },
   "file_extension": ".py",
   "mimetype": "text/x-python",
   "name": "python",
   "nbconvert_exporter": "python",
   "pygments_lexer": "ipython3",
   "version": "3.9.7"
  }
 },
 "nbformat": 4,
 "nbformat_minor": 5
}
